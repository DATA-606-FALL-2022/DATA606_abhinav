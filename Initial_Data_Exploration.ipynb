{
 "cells": [
  {
   "cell_type": "code",
   "execution_count": 1,
   "id": "c9d67a5b",
   "metadata": {},
   "outputs": [
    {
     "name": "stdout",
     "output_type": "stream",
     "text": [
      "Requirement already satisfied: nibabel in c:\\users\\abhin\\anaconda3\\lib\\site-packages (4.0.2)\n",
      "Requirement already satisfied: setuptools in c:\\users\\abhin\\anaconda3\\lib\\site-packages (from nibabel) (61.2.0)\n",
      "Requirement already satisfied: numpy>=1.17 in c:\\users\\abhin\\anaconda3\\lib\\site-packages (from nibabel) (1.21.5)\n",
      "Requirement already satisfied: packaging>=17.0 in c:\\users\\abhin\\anaconda3\\lib\\site-packages (from nibabel) (21.3)\n",
      "Requirement already satisfied: pyparsing!=3.0.5,>=2.0.2 in c:\\users\\abhin\\anaconda3\\lib\\site-packages (from packaging>=17.0->nibabel) (3.0.4)\n"
     ]
    }
   ],
   "source": [
    "!pip install nibabel"
   ]
  },
  {
   "cell_type": "markdown",
   "id": "4684e89a",
   "metadata": {},
   "source": [
    "<h3> Importing Libraries</h3>"
   ]
  },
  {
   "cell_type": "code",
   "execution_count": 2,
   "id": "795d57ad",
   "metadata": {},
   "outputs": [],
   "source": [
    "import pandas as pd\n",
    "import nibabel as nib\n",
    "import os\n",
    "from PIL import Image, ImageSequence\n",
    "import matplotlib.pyplot as plt\n",
    "import seaborn as sns\n",
    "import numpy as np"
   ]
  },
  {
   "cell_type": "code",
   "execution_count": 3,
   "id": "c65a9ded",
   "metadata": {},
   "outputs": [],
   "source": [
    "def load_nii(img_path):\n",
    "    nimg = nib.load(img_path)\n",
    "    return nimg.get_data(), nimg.affine, nimg.header, nimg.get_fdata(), nimg.shape"
   ]
  },
  {
   "cell_type": "markdown",
   "id": "c7947f1e",
   "metadata": {},
   "source": [
    "<h3> Loading a sample MRI image</h3>"
   ]
  },
  {
   "cell_type": "code",
   "execution_count": 4,
   "id": "400c6831",
   "metadata": {},
   "outputs": [],
   "source": [
    "path = r'C:\\capstone\\New folder\\New folder\\disc1\\OAS1_0001_MR1\\FSL_SEG\\OAS1_0001_MR1_mpr_n4_anon_111_t88_masked_gfc_fseg_tra_90.gif'\n",
    "im = Image.open(path)"
   ]
  },
  {
   "cell_type": "code",
   "execution_count": 5,
   "id": "26085959",
   "metadata": {},
   "outputs": [
    {
     "data": {
      "text/plain": [
       "<matplotlib.image.AxesImage at 0x27216d53af0>"
      ]
     },
     "execution_count": 5,
     "metadata": {},
     "output_type": "execute_result"
    },
    {
     "data": {
      "image/png": "[encoded data removed]",
      "text/plain": [
       "<Figure size 432x288 with 1 Axes>"
      ]
     },
     "metadata": {
      "needs_background": "light"
     },
     "output_type": "display_data"
    }
   ],
   "source": [
    "plt.imshow(im,cmap=\"gray\")"
   ]
  },
  {
   "cell_type": "markdown",
   "id": "69d18407",
   "metadata": {},
   "source": [
    "<h3>Loading the Dataset</h3>"
   ]
  },
  {
   "cell_type": "code",
   "execution_count": 6,
   "id": "7f8c7d74",
   "metadata": {},
   "outputs": [],
   "source": [
    "df = pd.read_excel(r'C:\\capstone\\New folder\\oasis_longitudinal_demographics.xlsx')"
   ]
  },
  {
   "cell_type": "code",
   "execution_count": 7,
   "id": "bd642b35",
   "metadata": {},
   "outputs": [
    {
     "data": {
      "text/html": [
       "<div>\n",
       "<style scoped>\n",
       "    .dataframe tbody tr th:only-of-type {\n",
       "        vertical-align: middle;\n",
       "    }\n",
       "\n",
       "    .dataframe tbody tr th {\n",
       "        vertical-align: top;\n",
       "    }\n",
       "\n",
       "    .dataframe thead th {\n",
       "        text-align: right;\n",
       "    }\n",
       "</style>\n",
       "<table border=\"1\" class=\"dataframe\">\n",
       "  <thead>\n",
       "    <tr style=\"text-align: right;\">\n",
       "      <th></th>\n",
       "      <th>Subject ID</th>\n",
       "      <th>MRI ID</th>\n",
       "      <th>Group</th>\n",
       "      <th>Visit</th>\n",
       "      <th>MR Delay</th>\n",
       "      <th>M/F</th>\n",
       "      <th>Hand</th>\n",
       "      <th>Age</th>\n",
       "      <th>EDUC</th>\n",
       "      <th>SES</th>\n",
       "      <th>MMSE</th>\n",
       "      <th>CDR</th>\n",
       "      <th>eTIV</th>\n",
       "      <th>nWBV</th>\n",
       "      <th>ASF</th>\n",
       "    </tr>\n",
       "  </thead>\n",
       "  <tbody>\n",
       "    <tr>\n",
       "      <th>0</th>\n",
       "      <td>OAS2_0001</td>\n",
       "      <td>OAS2_0001_MR1</td>\n",
       "      <td>Nondemented</td>\n",
       "      <td>1</td>\n",
       "      <td>0</td>\n",
       "      <td>M</td>\n",
       "      <td>R</td>\n",
       "      <td>87</td>\n",
       "      <td>14</td>\n",
       "      <td>2.0</td>\n",
       "      <td>27.0</td>\n",
       "      <td>0.0</td>\n",
       "      <td>1986.550000</td>\n",
       "      <td>0.696106</td>\n",
       "      <td>0.883440</td>\n",
       "    </tr>\n",
       "    <tr>\n",
       "      <th>1</th>\n",
       "      <td>OAS2_0001</td>\n",
       "      <td>OAS2_0001_MR2</td>\n",
       "      <td>Nondemented</td>\n",
       "      <td>2</td>\n",
       "      <td>457</td>\n",
       "      <td>M</td>\n",
       "      <td>R</td>\n",
       "      <td>88</td>\n",
       "      <td>14</td>\n",
       "      <td>2.0</td>\n",
       "      <td>30.0</td>\n",
       "      <td>0.0</td>\n",
       "      <td>2004.479526</td>\n",
       "      <td>0.681062</td>\n",
       "      <td>0.875539</td>\n",
       "    </tr>\n",
       "    <tr>\n",
       "      <th>2</th>\n",
       "      <td>OAS2_0002</td>\n",
       "      <td>OAS2_0002_MR1</td>\n",
       "      <td>Demented</td>\n",
       "      <td>1</td>\n",
       "      <td>0</td>\n",
       "      <td>M</td>\n",
       "      <td>R</td>\n",
       "      <td>75</td>\n",
       "      <td>12</td>\n",
       "      <td>NaN</td>\n",
       "      <td>23.0</td>\n",
       "      <td>0.5</td>\n",
       "      <td>1678.290000</td>\n",
       "      <td>0.736336</td>\n",
       "      <td>1.045710</td>\n",
       "    </tr>\n",
       "    <tr>\n",
       "      <th>3</th>\n",
       "      <td>OAS2_0002</td>\n",
       "      <td>OAS2_0002_MR2</td>\n",
       "      <td>Demented</td>\n",
       "      <td>2</td>\n",
       "      <td>560</td>\n",
       "      <td>M</td>\n",
       "      <td>R</td>\n",
       "      <td>76</td>\n",
       "      <td>12</td>\n",
       "      <td>NaN</td>\n",
       "      <td>28.0</td>\n",
       "      <td>0.5</td>\n",
       "      <td>1737.620000</td>\n",
       "      <td>0.713402</td>\n",
       "      <td>1.010000</td>\n",
       "    </tr>\n",
       "    <tr>\n",
       "      <th>4</th>\n",
       "      <td>OAS2_0002</td>\n",
       "      <td>OAS2_0002_MR3</td>\n",
       "      <td>Demented</td>\n",
       "      <td>3</td>\n",
       "      <td>1895</td>\n",
       "      <td>M</td>\n",
       "      <td>R</td>\n",
       "      <td>80</td>\n",
       "      <td>12</td>\n",
       "      <td>NaN</td>\n",
       "      <td>22.0</td>\n",
       "      <td>0.5</td>\n",
       "      <td>1697.911134</td>\n",
       "      <td>0.701236</td>\n",
       "      <td>1.033623</td>\n",
       "    </tr>\n",
       "    <tr>\n",
       "      <th>...</th>\n",
       "      <td>...</td>\n",
       "      <td>...</td>\n",
       "      <td>...</td>\n",
       "      <td>...</td>\n",
       "      <td>...</td>\n",
       "      <td>...</td>\n",
       "      <td>...</td>\n",
       "      <td>...</td>\n",
       "      <td>...</td>\n",
       "      <td>...</td>\n",
       "      <td>...</td>\n",
       "      <td>...</td>\n",
       "      <td>...</td>\n",
       "      <td>...</td>\n",
       "      <td>...</td>\n",
       "    </tr>\n",
       "    <tr>\n",
       "      <th>368</th>\n",
       "      <td>OAS2_0185</td>\n",
       "      <td>OAS2_0185_MR2</td>\n",
       "      <td>Demented</td>\n",
       "      <td>2</td>\n",
       "      <td>842</td>\n",
       "      <td>M</td>\n",
       "      <td>R</td>\n",
       "      <td>82</td>\n",
       "      <td>16</td>\n",
       "      <td>1.0</td>\n",
       "      <td>28.0</td>\n",
       "      <td>0.5</td>\n",
       "      <td>1692.880000</td>\n",
       "      <td>0.693926</td>\n",
       "      <td>1.036690</td>\n",
       "    </tr>\n",
       "    <tr>\n",
       "      <th>369</th>\n",
       "      <td>OAS2_0185</td>\n",
       "      <td>OAS2_0185_MR3</td>\n",
       "      <td>Demented</td>\n",
       "      <td>3</td>\n",
       "      <td>2297</td>\n",
       "      <td>M</td>\n",
       "      <td>R</td>\n",
       "      <td>86</td>\n",
       "      <td>16</td>\n",
       "      <td>1.0</td>\n",
       "      <td>26.0</td>\n",
       "      <td>0.5</td>\n",
       "      <td>1688.009649</td>\n",
       "      <td>0.675457</td>\n",
       "      <td>1.039686</td>\n",
       "    </tr>\n",
       "    <tr>\n",
       "      <th>370</th>\n",
       "      <td>OAS2_0186</td>\n",
       "      <td>OAS2_0186_MR1</td>\n",
       "      <td>Nondemented</td>\n",
       "      <td>1</td>\n",
       "      <td>0</td>\n",
       "      <td>F</td>\n",
       "      <td>R</td>\n",
       "      <td>61</td>\n",
       "      <td>13</td>\n",
       "      <td>2.0</td>\n",
       "      <td>30.0</td>\n",
       "      <td>0.0</td>\n",
       "      <td>1319.020000</td>\n",
       "      <td>0.801006</td>\n",
       "      <td>1.330540</td>\n",
       "    </tr>\n",
       "    <tr>\n",
       "      <th>371</th>\n",
       "      <td>OAS2_0186</td>\n",
       "      <td>OAS2_0186_MR2</td>\n",
       "      <td>Nondemented</td>\n",
       "      <td>2</td>\n",
       "      <td>763</td>\n",
       "      <td>F</td>\n",
       "      <td>R</td>\n",
       "      <td>63</td>\n",
       "      <td>13</td>\n",
       "      <td>2.0</td>\n",
       "      <td>30.0</td>\n",
       "      <td>0.0</td>\n",
       "      <td>1326.650000</td>\n",
       "      <td>0.795981</td>\n",
       "      <td>1.322890</td>\n",
       "    </tr>\n",
       "    <tr>\n",
       "      <th>372</th>\n",
       "      <td>OAS2_0186</td>\n",
       "      <td>OAS2_0186_MR3</td>\n",
       "      <td>Nondemented</td>\n",
       "      <td>3</td>\n",
       "      <td>1608</td>\n",
       "      <td>F</td>\n",
       "      <td>R</td>\n",
       "      <td>65</td>\n",
       "      <td>13</td>\n",
       "      <td>2.0</td>\n",
       "      <td>30.0</td>\n",
       "      <td>0.0</td>\n",
       "      <td>1332.944463</td>\n",
       "      <td>0.801248</td>\n",
       "      <td>1.316634</td>\n",
       "    </tr>\n",
       "  </tbody>\n",
       "</table>\n",
       "<p>373 rows × 15 columns</p>\n",
       "</div>"
      ],
      "text/plain": [
       "    Subject ID         MRI ID        Group  Visit  MR Delay M/F Hand  Age  \\\n",
       "0    OAS2_0001  OAS2_0001_MR1  Nondemented      1         0   M    R   87   \n",
       "1    OAS2_0001  OAS2_0001_MR2  Nondemented      2       457   M    R   88   \n",
       "2    OAS2_0002  OAS2_0002_MR1     Demented      1         0   M    R   75   \n",
       "3    OAS2_0002  OAS2_0002_MR2     Demented      2       560   M    R   76   \n",
       "4    OAS2_0002  OAS2_0002_MR3     Demented      3      1895   M    R   80   \n",
       "..         ...            ...          ...    ...       ...  ..  ...  ...   \n",
       "368  OAS2_0185  OAS2_0185_MR2     Demented      2       842   M    R   82   \n",
       "369  OAS2_0185  OAS2_0185_MR3     Demented      3      2297   M    R   86   \n",
       "370  OAS2_0186  OAS2_0186_MR1  Nondemented      1         0   F    R   61   \n",
       "371  OAS2_0186  OAS2_0186_MR2  Nondemented      2       763   F    R   63   \n",
       "372  OAS2_0186  OAS2_0186_MR3  Nondemented      3      1608   F    R   65   \n",
       "\n",
       "     EDUC  SES  MMSE  CDR         eTIV      nWBV       ASF  \n",
       "0      14  2.0  27.0  0.0  1986.550000  0.696106  0.883440  \n",
       "1      14  2.0  30.0  0.0  2004.479526  0.681062  0.875539  \n",
       "2      12  NaN  23.0  0.5  1678.290000  0.736336  1.045710  \n",
       "3      12  NaN  28.0  0.5  1737.620000  0.713402  1.010000  \n",
       "4      12  NaN  22.0  0.5  1697.911134  0.701236  1.033623  \n",
       "..    ...  ...   ...  ...          ...       ...       ...  \n",
       "368    16  1.0  28.0  0.5  1692.880000  0.693926  1.036690  \n",
       "369    16  1.0  26.0  0.5  1688.009649  0.675457  1.039686  \n",
       "370    13  2.0  30.0  0.0  1319.020000  0.801006  1.330540  \n",
       "371    13  2.0  30.0  0.0  1326.650000  0.795981  1.322890  \n",
       "372    13  2.0  30.0  0.0  1332.944463  0.801248  1.316634  \n",
       "\n",
       "[373 rows x 15 columns]"
      ]
     },
     "execution_count": 7,
     "metadata": {},
     "output_type": "execute_result"
    }
   ],
   "source": [
    "df"
   ]
  },
  {
   "cell_type": "code",
   "execution_count": 8,
   "id": "af9f5056",
   "metadata": {},
   "outputs": [
    {
     "data": {
      "text/html": [
       "<div>\n",
       "<style scoped>\n",
       "    .dataframe tbody tr th:only-of-type {\n",
       "        vertical-align: middle;\n",
       "    }\n",
       "\n",
       "    .dataframe tbody tr th {\n",
       "        vertical-align: top;\n",
       "    }\n",
       "\n",
       "    .dataframe thead th {\n",
       "        text-align: right;\n",
       "    }\n",
       "</style>\n",
       "<table border=\"1\" class=\"dataframe\">\n",
       "  <thead>\n",
       "    <tr style=\"text-align: right;\">\n",
       "      <th></th>\n",
       "      <th>Subject ID</th>\n",
       "      <th>MRI ID</th>\n",
       "      <th>Group</th>\n",
       "      <th>Visit</th>\n",
       "      <th>MR Delay</th>\n",
       "      <th>M/F</th>\n",
       "      <th>Hand</th>\n",
       "      <th>Age</th>\n",
       "      <th>EDUC</th>\n",
       "      <th>SES</th>\n",
       "      <th>MMSE</th>\n",
       "      <th>CDR</th>\n",
       "      <th>eTIV</th>\n",
       "      <th>nWBV</th>\n",
       "      <th>ASF</th>\n",
       "    </tr>\n",
       "  </thead>\n",
       "  <tbody>\n",
       "    <tr>\n",
       "      <th>0</th>\n",
       "      <td>OAS2_0001</td>\n",
       "      <td>OAS2_0001_MR1</td>\n",
       "      <td>Nondemented</td>\n",
       "      <td>1</td>\n",
       "      <td>0</td>\n",
       "      <td>M</td>\n",
       "      <td>R</td>\n",
       "      <td>87</td>\n",
       "      <td>14</td>\n",
       "      <td>2.0</td>\n",
       "      <td>27.0</td>\n",
       "      <td>0.0</td>\n",
       "      <td>1986.550000</td>\n",
       "      <td>0.696106</td>\n",
       "      <td>0.883440</td>\n",
       "    </tr>\n",
       "    <tr>\n",
       "      <th>1</th>\n",
       "      <td>OAS2_0001</td>\n",
       "      <td>OAS2_0001_MR2</td>\n",
       "      <td>Nondemented</td>\n",
       "      <td>2</td>\n",
       "      <td>457</td>\n",
       "      <td>M</td>\n",
       "      <td>R</td>\n",
       "      <td>88</td>\n",
       "      <td>14</td>\n",
       "      <td>2.0</td>\n",
       "      <td>30.0</td>\n",
       "      <td>0.0</td>\n",
       "      <td>2004.479526</td>\n",
       "      <td>0.681062</td>\n",
       "      <td>0.875539</td>\n",
       "    </tr>\n",
       "    <tr>\n",
       "      <th>2</th>\n",
       "      <td>OAS2_0002</td>\n",
       "      <td>OAS2_0002_MR1</td>\n",
       "      <td>Demented</td>\n",
       "      <td>1</td>\n",
       "      <td>0</td>\n",
       "      <td>M</td>\n",
       "      <td>R</td>\n",
       "      <td>75</td>\n",
       "      <td>12</td>\n",
       "      <td>NaN</td>\n",
       "      <td>23.0</td>\n",
       "      <td>0.5</td>\n",
       "      <td>1678.290000</td>\n",
       "      <td>0.736336</td>\n",
       "      <td>1.045710</td>\n",
       "    </tr>\n",
       "    <tr>\n",
       "      <th>3</th>\n",
       "      <td>OAS2_0002</td>\n",
       "      <td>OAS2_0002_MR2</td>\n",
       "      <td>Demented</td>\n",
       "      <td>2</td>\n",
       "      <td>560</td>\n",
       "      <td>M</td>\n",
       "      <td>R</td>\n",
       "      <td>76</td>\n",
       "      <td>12</td>\n",
       "      <td>NaN</td>\n",
       "      <td>28.0</td>\n",
       "      <td>0.5</td>\n",
       "      <td>1737.620000</td>\n",
       "      <td>0.713402</td>\n",
       "      <td>1.010000</td>\n",
       "    </tr>\n",
       "    <tr>\n",
       "      <th>4</th>\n",
       "      <td>OAS2_0002</td>\n",
       "      <td>OAS2_0002_MR3</td>\n",
       "      <td>Demented</td>\n",
       "      <td>3</td>\n",
       "      <td>1895</td>\n",
       "      <td>M</td>\n",
       "      <td>R</td>\n",
       "      <td>80</td>\n",
       "      <td>12</td>\n",
       "      <td>NaN</td>\n",
       "      <td>22.0</td>\n",
       "      <td>0.5</td>\n",
       "      <td>1697.911134</td>\n",
       "      <td>0.701236</td>\n",
       "      <td>1.033623</td>\n",
       "    </tr>\n",
       "  </tbody>\n",
       "</table>\n",
       "</div>"
      ],
      "text/plain": [
       "  Subject ID         MRI ID        Group  Visit  MR Delay M/F Hand  Age  EDUC  \\\n",
       "0  OAS2_0001  OAS2_0001_MR1  Nondemented      1         0   M    R   87    14   \n",
       "1  OAS2_0001  OAS2_0001_MR2  Nondemented      2       457   M    R   88    14   \n",
       "2  OAS2_0002  OAS2_0002_MR1     Demented      1         0   M    R   75    12   \n",
       "3  OAS2_0002  OAS2_0002_MR2     Demented      2       560   M    R   76    12   \n",
       "4  OAS2_0002  OAS2_0002_MR3     Demented      3      1895   M    R   80    12   \n",
       "\n",
       "   SES  MMSE  CDR         eTIV      nWBV       ASF  \n",
       "0  2.0  27.0  0.0  1986.550000  0.696106  0.883440  \n",
       "1  2.0  30.0  0.0  2004.479526  0.681062  0.875539  \n",
       "2  NaN  23.0  0.5  1678.290000  0.736336  1.045710  \n",
       "3  NaN  28.0  0.5  1737.620000  0.713402  1.010000  \n",
       "4  NaN  22.0  0.5  1697.911134  0.701236  1.033623  "
      ]
     },
     "execution_count": 8,
     "metadata": {},
     "output_type": "execute_result"
    }
   ],
   "source": [
    "df.head()"
   ]
  },
  {
   "cell_type": "markdown",
   "id": "ab07178c",
   "metadata": {},
   "source": [
    "<h3>Finding the nuumber of features and columns in the dataset</h3>"
   ]
  },
  {
   "cell_type": "code",
   "execution_count": 87,
   "id": "9fd5189c",
   "metadata": {
    "scrolled": true
   },
   "outputs": [
    {
     "name": "stdout",
     "output_type": "stream",
     "text": [
      "The number of features and columns in the dataset are: (373, 15)\n"
     ]
    }
   ],
   "source": [
    "print(\"The number of features and columns in the dataset are:\",df.shape)"
   ]
  },
  {
   "cell_type": "markdown",
   "id": "0c8c0ed4",
   "metadata": {},
   "source": [
    "<h3>Changing the column names to be more appropriate</h3>"
   ]
  },
  {
   "cell_type": "code",
   "execution_count": 88,
   "id": "00c39edf",
   "metadata": {},
   "outputs": [],
   "source": [
    "df.rename(columns = {'CDR':'Target'}, inplace = True)"
   ]
  },
  {
   "cell_type": "code",
   "execution_count": 29,
   "id": "e0a68ff8",
   "metadata": {},
   "outputs": [],
   "source": [
    "df['Target'] = df['Target'].apply(lambda x: True if x>0 else False)"
   ]
  },
  {
   "cell_type": "markdown",
   "id": "ee842a64",
   "metadata": {},
   "source": [
    "<h3>Datatypes of all the columns</h3>"
   ]
  },
  {
   "cell_type": "code",
   "execution_count": 30,
   "id": "cfc2806f",
   "metadata": {},
   "outputs": [
    {
     "data": {
      "text/plain": [
       "Subject ID     object\n",
       "MRI ID         object\n",
       "Group          object\n",
       "Visit           int64\n",
       "MR Delay        int64\n",
       "M/F            object\n",
       "Hand           object\n",
       "Age             int64\n",
       "EDUC            int64\n",
       "SES           float64\n",
       "MMSE          float64\n",
       "Target           bool\n",
       "eTIV          float64\n",
       "nWBV          float64\n",
       "ASF           float64\n",
       "dtype: object"
      ]
     },
     "execution_count": 30,
     "metadata": {},
     "output_type": "execute_result"
    }
   ],
   "source": [
    "df.dtypes"
   ]
  },
  {
   "cell_type": "markdown",
   "id": "b76fefc5",
   "metadata": {},
   "source": [
    "<h3>Unique values in each object columns</h3>"
   ]
  },
  {
   "cell_type": "code",
   "execution_count": 31,
   "id": "562ca47c",
   "metadata": {},
   "outputs": [
    {
     "data": {
      "text/plain": [
       "OAS2_0070    5\n",
       "OAS2_0048    5\n",
       "OAS2_0127    5\n",
       "OAS2_0073    5\n",
       "OAS2_0034    4\n",
       "            ..\n",
       "OAS2_0071    2\n",
       "OAS2_0069    2\n",
       "OAS2_0068    2\n",
       "OAS2_0066    2\n",
       "OAS2_0092    2\n",
       "Name: Subject ID, Length: 150, dtype: int64"
      ]
     },
     "execution_count": 31,
     "metadata": {},
     "output_type": "execute_result"
    }
   ],
   "source": [
    "df['Subject ID'].value_counts()"
   ]
  },
  {
   "cell_type": "code",
   "execution_count": 32,
   "id": "4368b893",
   "metadata": {},
   "outputs": [
    {
     "data": {
      "text/plain": [
       "OAS2_0001_MR1    1\n",
       "OAS2_0118_MR2    1\n",
       "OAS2_0122_MR2    1\n",
       "OAS2_0122_MR1    1\n",
       "OAS2_0121_MR2    1\n",
       "                ..\n",
       "OAS2_0057_MR3    1\n",
       "OAS2_0057_MR2    1\n",
       "OAS2_0057_MR1    1\n",
       "OAS2_0056_MR2    1\n",
       "OAS2_0186_MR3    1\n",
       "Name: MRI ID, Length: 373, dtype: int64"
      ]
     },
     "execution_count": 32,
     "metadata": {},
     "output_type": "execute_result"
    }
   ],
   "source": [
    "df['MRI ID'].value_counts()#Since every Id is unique the values are expected to be 1."
   ]
  },
  {
   "cell_type": "code",
   "execution_count": 33,
   "id": "78071d6e",
   "metadata": {},
   "outputs": [
    {
     "data": {
      "text/plain": [
       "Nondemented    190\n",
       "Demented       146\n",
       "Converted       37\n",
       "Name: Group, dtype: int64"
      ]
     },
     "execution_count": 33,
     "metadata": {},
     "output_type": "execute_result"
    }
   ],
   "source": [
    "df['Group'].value_counts()"
   ]
  },
  {
   "cell_type": "code",
   "execution_count": 34,
   "id": "586928a4",
   "metadata": {},
   "outputs": [
    {
     "data": {
      "text/plain": [
       "F    213\n",
       "M    160\n",
       "Name: M/F, dtype: int64"
      ]
     },
     "execution_count": 34,
     "metadata": {},
     "output_type": "execute_result"
    }
   ],
   "source": [
    "df['M/F'].value_counts()"
   ]
  },
  {
   "cell_type": "code",
   "execution_count": 35,
   "id": "6a2a94d1",
   "metadata": {},
   "outputs": [
    {
     "data": {
      "text/plain": [
       "R    373\n",
       "Name: Hand, dtype: int64"
      ]
     },
     "execution_count": 35,
     "metadata": {},
     "output_type": "execute_result"
    }
   ],
   "source": [
    "df['Hand'].value_counts()#The dataset only contains informations regarding righthanded people"
   ]
  },
  {
   "cell_type": "markdown",
   "id": "03718e52",
   "metadata": {},
   "source": [
    "<h3>Number of null values in each column</h3>"
   ]
  },
  {
   "cell_type": "code",
   "execution_count": 42,
   "id": "cb7a64d6",
   "metadata": {},
   "outputs": [
    {
     "data": {
      "text/plain": [
       "Subject ID     0\n",
       "MRI ID         0\n",
       "Group          0\n",
       "Visit          0\n",
       "MR Delay       0\n",
       "M/F            0\n",
       "Hand           0\n",
       "Age            0\n",
       "EDUC           0\n",
       "SES           19\n",
       "MMSE           2\n",
       "Target         0\n",
       "eTIV           0\n",
       "nWBV           0\n",
       "ASF            0\n",
       "dtype: int64"
      ]
     },
     "execution_count": 42,
     "metadata": {},
     "output_type": "execute_result"
    }
   ],
   "source": [
    "df.isnull().sum()"
   ]
  },
  {
   "cell_type": "markdown",
   "id": "60e08636",
   "metadata": {},
   "source": [
    "<h3>Finding the correlation between the columns</h3>"
   ]
  },
  {
   "cell_type": "code",
   "execution_count": 43,
   "id": "a0a37519",
   "metadata": {},
   "outputs": [],
   "source": [
    "data =  df.drop(['Target'], axis=1)"
   ]
  },
  {
   "cell_type": "code",
   "execution_count": 85,
   "id": "db3e640f",
   "metadata": {},
   "outputs": [
    {
     "name": "stderr",
     "output_type": "stream",
     "text": [
      "C:\\Users\\abhin\\AppData\\Local\\Temp\\ipykernel_22952\\826711064.py:2: DeprecationWarning: `np.bool` is a deprecated alias for the builtin `bool`. To silence this warning, use `bool` by itself. Doing this will not modify any behavior and is safe. If you specifically wanted the numpy scalar type, use `np.bool_` here.\n",
      "Deprecated in NumPy 1.20; for more details and guidance: https://numpy.org/devdocs/release/1.20.0-notes.html#deprecations\n",
      "  sns.heatmap(data.corr(), mask = np.triu(np.ones_like(corr, dtype=np.bool)),linewidth=0.1, ax=ax)\n"
     ]
    },
    {
     "data": {
      "text/plain": [
       "<AxesSubplot:>"
      ]
     },
     "execution_count": 85,
     "metadata": {},
     "output_type": "execute_result"
    },
    {
     "data": {
      "image/png": "[encoded data removed]",
      "text/plain": [
       "<Figure size 720x720 with 2 Axes>"
      ]
     },
     "metadata": {},
     "output_type": "display_data"
    }
   ],
   "source": [
    "f, ax = plt.subplots(figsize=(10, 10))\n",
    "sns.heatmap(data.corr(), mask = np.triu(np.ones_like(corr, dtype=np.bool)),linewidth=0.1, ax=ax)"
   ]
  },
  {
   "cell_type": "markdown",
   "id": "99581087",
   "metadata": {},
   "source": [
    "<h3>Distribution of target column</h3>"
   ]
  },
  {
   "cell_type": "code",
   "execution_count": 90,
   "id": "73918c0a",
   "metadata": {},
   "outputs": [
    {
     "data": {
      "text/plain": [
       "False    206\n",
       "True     167\n",
       "Name: Target, dtype: int64"
      ]
     },
     "execution_count": 90,
     "metadata": {},
     "output_type": "execute_result"
    }
   ],
   "source": [
    "df['Target'].value_counts()"
   ]
  }
 ],
 "metadata": {
  "kernelspec": {
   "display_name": "Python 3 (ipykernel)",
   "language": "python",
   "name": "python3"
  },
  "language_info": {
   "codemirror_mode": {
    "name": "ipython",
    "version": 3
   },
   "file_extension": ".py",
   "mimetype": "text/x-python",
   "name": "python",
   "nbconvert_exporter": "python",
   "pygments_lexer": "ipython3",
   "version": "3.9.12"
  }
 },
 "nbformat": 4,
 "nbformat_minor": 5
}
